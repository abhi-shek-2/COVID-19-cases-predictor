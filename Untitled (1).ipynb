{
 "cells": [
  {
   "cell_type": "code",
   "execution_count": 1,
   "metadata": {},
   "outputs": [],
   "source": [
    "import requests\n",
    "from pandas.io.json import json_normalize\n",
    "import pandas as pd\n",
    "import matplotlib.pyplot as plt\n",
    "import numpy as np\n",
    "import seaborn as sns\n",
    "%matplotlib inline"
   ]
  },
  {
   "cell_type": "code",
   "execution_count": 2,
   "metadata": {},
   "outputs": [
    {
     "name": "stderr",
     "output_type": "stream",
     "text": [
      "c:\\users\\abhi7\\appdata\\local\\programs\\python\\python37-32\\lib\\site-packages\\ipykernel_launcher.py:4: FutureWarning: pandas.io.json.json_normalize is deprecated, use pandas.json_normalize instead\n",
      "  after removing the cwd from sys.path.\n"
     ]
    },
    {
     "data": {
      "text/html": [
       "<div>\n",
       "<style scoped>\n",
       "    .dataframe tbody tr th:only-of-type {\n",
       "        vertical-align: middle;\n",
       "    }\n",
       "\n",
       "    .dataframe tbody tr th {\n",
       "        vertical-align: top;\n",
       "    }\n",
       "\n",
       "    .dataframe thead th {\n",
       "        text-align: right;\n",
       "    }\n",
       "</style>\n",
       "<table border=\"1\" class=\"dataframe\">\n",
       "  <thead>\n",
       "    <tr style=\"text-align: right;\">\n",
       "      <th></th>\n",
       "      <th>countrycode</th>\n",
       "      <th>date</th>\n",
       "      <th>cases</th>\n",
       "      <th>deaths</th>\n",
       "      <th>recovered</th>\n",
       "    </tr>\n",
       "  </thead>\n",
       "  <tbody>\n",
       "    <tr>\n",
       "      <th>39618</th>\n",
       "      <td>FJ</td>\n",
       "      <td>9/23/20</td>\n",
       "      <td>32</td>\n",
       "      <td>2</td>\n",
       "      <td>18</td>\n",
       "    </tr>\n",
       "    <tr>\n",
       "      <th>39619</th>\n",
       "      <td>KN</td>\n",
       "      <td>9/23/20</td>\n",
       "      <td>19</td>\n",
       "      <td>0</td>\n",
       "      <td>15</td>\n",
       "    </tr>\n",
       "    <tr>\n",
       "      <th>39620</th>\n",
       "      <td>VA</td>\n",
       "      <td>9/23/20</td>\n",
       "      <td>12</td>\n",
       "      <td>0</td>\n",
       "      <td>12</td>\n",
       "    </tr>\n",
       "    <tr>\n",
       "      <th>39621</th>\n",
       "      <td>LS</td>\n",
       "      <td>9/23/20</td>\n",
       "      <td>1507</td>\n",
       "      <td>35</td>\n",
       "      <td>11</td>\n",
       "    </tr>\n",
       "    <tr>\n",
       "      <th>39622</th>\n",
       "      <td>SC</td>\n",
       "      <td>9/23/20</td>\n",
       "      <td>143</td>\n",
       "      <td>0</td>\n",
       "      <td>11</td>\n",
       "    </tr>\n",
       "    <tr>\n",
       "      <th>39623</th>\n",
       "      <td>PG</td>\n",
       "      <td>9/23/20</td>\n",
       "      <td>527</td>\n",
       "      <td>7</td>\n",
       "      <td>8</td>\n",
       "    </tr>\n",
       "    <tr>\n",
       "      <th>39624</th>\n",
       "      <td>EH</td>\n",
       "      <td>9/23/20</td>\n",
       "      <td>10</td>\n",
       "      <td>1</td>\n",
       "      <td>8</td>\n",
       "    </tr>\n",
       "    <tr>\n",
       "      <th>39625</th>\n",
       "      <td>NANA</td>\n",
       "      <td>9/23/20</td>\n",
       "      <td>9</td>\n",
       "      <td>2</td>\n",
       "      <td>0</td>\n",
       "    </tr>\n",
       "    <tr>\n",
       "      <th>39626</th>\n",
       "      <td>GL</td>\n",
       "      <td>9/23/20</td>\n",
       "      <td>13</td>\n",
       "      <td>0</td>\n",
       "      <td>0</td>\n",
       "    </tr>\n",
       "    <tr>\n",
       "      <th>39627</th>\n",
       "      <td>LU</td>\n",
       "      <td>9/23/20</td>\n",
       "      <td>8090</td>\n",
       "      <td>124</td>\n",
       "      <td>6367</td>\n",
       "    </tr>\n",
       "  </tbody>\n",
       "</table>\n",
       "</div>"
      ],
      "text/plain": [
       "      countrycode     date cases deaths recovered\n",
       "39618          FJ  9/23/20    32      2        18\n",
       "39619          KN  9/23/20    19      0        15\n",
       "39620          VA  9/23/20    12      0        12\n",
       "39621          LS  9/23/20  1507     35        11\n",
       "39622          SC  9/23/20   143      0        11\n",
       "39623          PG  9/23/20   527      7         8\n",
       "39624          EH  9/23/20    10      1         8\n",
       "39625        NANA  9/23/20     9      2         0\n",
       "39626          GL  9/23/20    13      0         0\n",
       "39627          LU  9/23/20  8090    124      6367"
      ]
     },
     "execution_count": 2,
     "metadata": {},
     "output_type": "execute_result"
    }
   ],
   "source": [
    "response = requests.get('https://thevirustracker.com/timeline/map-data.json')\n",
    "api_data = response.json()\n",
    "api_data = api_data['data']\n",
    "data = json_normalize(api_data)\n",
    "data.tail(10)"
   ]
  },
  {
   "cell_type": "code",
   "execution_count": 3,
   "metadata": {},
   "outputs": [
    {
     "name": "stdout",
     "output_type": "stream",
     "text": [
      "<class 'pandas.core.frame.DataFrame'>\n",
      "RangeIndex: 39628 entries, 0 to 39627\n",
      "Data columns (total 5 columns):\n",
      " #   Column       Non-Null Count  Dtype \n",
      "---  ------       --------------  ----- \n",
      " 0   countrycode  39628 non-null  object\n",
      " 1   date         39628 non-null  object\n",
      " 2   cases        39628 non-null  object\n",
      " 3   deaths       39628 non-null  object\n",
      " 4   recovered    39628 non-null  object\n",
      "dtypes: object(5)\n",
      "memory usage: 774.0+ KB\n"
     ]
    }
   ],
   "source": [
    "data.info()"
   ]
  },
  {
   "cell_type": "code",
   "execution_count": 4,
   "metadata": {},
   "outputs": [],
   "source": [
    "data.recovered.replace('','0',inplace=True)"
   ]
  },
  {
   "cell_type": "code",
   "execution_count": 5,
   "metadata": {},
   "outputs": [
    {
     "name": "stdout",
     "output_type": "stream",
     "text": [
      "<class 'pandas.core.frame.DataFrame'>\n",
      "RangeIndex: 39628 entries, 0 to 39627\n",
      "Data columns (total 5 columns):\n",
      " #   Column       Non-Null Count  Dtype         \n",
      "---  ------       --------------  -----         \n",
      " 0   countrycode  39628 non-null  object        \n",
      " 1   date         39628 non-null  datetime64[ns]\n",
      " 2   cases        39628 non-null  int64         \n",
      " 3   deaths       39628 non-null  int64         \n",
      " 4   recovered    39628 non-null  int64         \n",
      "dtypes: datetime64[ns](1), int64(3), object(1)\n",
      "memory usage: 1.4+ MB\n"
     ]
    }
   ],
   "source": [
    "data['date'] = pd.to_datetime(data['date'])\n",
    "data['cases'] = data['cases'].apply(int)\n",
    "data['recovered'] = data['recovered'].apply(int)\n",
    "data['deaths'] = data['deaths'].apply(int)\n",
    "data.info()"
   ]
  },
  {
   "cell_type": "code",
   "execution_count": 6,
   "metadata": {},
   "outputs": [
    {
     "data": {
      "text/html": [
       "<div>\n",
       "<style scoped>\n",
       "    .dataframe tbody tr th:only-of-type {\n",
       "        vertical-align: middle;\n",
       "    }\n",
       "\n",
       "    .dataframe tbody tr th {\n",
       "        vertical-align: top;\n",
       "    }\n",
       "\n",
       "    .dataframe thead th {\n",
       "        text-align: right;\n",
       "    }\n",
       "</style>\n",
       "<table border=\"1\" class=\"dataframe\">\n",
       "  <thead>\n",
       "    <tr style=\"text-align: right;\">\n",
       "      <th></th>\n",
       "      <th>date</th>\n",
       "      <th>cases</th>\n",
       "      <th>deaths</th>\n",
       "      <th>recovered</th>\n",
       "    </tr>\n",
       "    <tr>\n",
       "      <th>countrycode</th>\n",
       "      <th></th>\n",
       "      <th></th>\n",
       "      <th></th>\n",
       "      <th></th>\n",
       "    </tr>\n",
       "  </thead>\n",
       "  <tbody>\n",
       "    <tr>\n",
       "      <th>CN</th>\n",
       "      <td>2020-01-22</td>\n",
       "      <td>548</td>\n",
       "      <td>24</td>\n",
       "      <td>28</td>\n",
       "    </tr>\n",
       "    <tr>\n",
       "      <th>JP</th>\n",
       "      <td>2020-01-22</td>\n",
       "      <td>2</td>\n",
       "      <td>0</td>\n",
       "      <td>0</td>\n",
       "    </tr>\n",
       "    <tr>\n",
       "      <th>KR</th>\n",
       "      <td>2020-01-22</td>\n",
       "      <td>1</td>\n",
       "      <td>0</td>\n",
       "      <td>0</td>\n",
       "    </tr>\n",
       "    <tr>\n",
       "      <th>TH</th>\n",
       "      <td>2020-01-22</td>\n",
       "      <td>2</td>\n",
       "      <td>0</td>\n",
       "      <td>0</td>\n",
       "    </tr>\n",
       "    <tr>\n",
       "      <th>TW</th>\n",
       "      <td>2020-01-22</td>\n",
       "      <td>1</td>\n",
       "      <td>0</td>\n",
       "      <td>0</td>\n",
       "    </tr>\n",
       "  </tbody>\n",
       "</table>\n",
       "</div>"
      ],
      "text/plain": [
       "                  date  cases  deaths  recovered\n",
       "countrycode                                     \n",
       "CN          2020-01-22    548      24         28\n",
       "JP          2020-01-22      2       0          0\n",
       "KR          2020-01-22      1       0          0\n",
       "TH          2020-01-22      2       0          0\n",
       "TW          2020-01-22      1       0          0"
      ]
     },
     "execution_count": 6,
     "metadata": {},
     "output_type": "execute_result"
    }
   ],
   "source": [
    "data.sort_values(by=['countrycode','date'])\n",
    "data.set_index('countrycode',inplace=True)\n",
    "data.head()"
   ]
  },
  {
   "cell_type": "code",
   "execution_count": 7,
   "metadata": {},
   "outputs": [
    {
     "name": "stdout",
     "output_type": "stream",
     "text": [
      "Enter country Name:india\n"
     ]
    },
    {
     "name": "stderr",
     "output_type": "stream",
     "text": [
      "c:\\users\\abhi7\\appdata\\local\\programs\\python\\python37-32\\lib\\site-packages\\ipykernel_launcher.py:6: MatplotlibDeprecationWarning: Non-1D inputs to pie() are currently squeeze()d, but this behavior is deprecated since 3.1 and will be removed in 3.3; pass a 1D array instead.\n",
      "  \n"
     ]
    },
    {
     "data": {
      "image/png": "[encoded data removed]",
      "text/plain": [
       "<Figure size 1080x1080 with 2 Axes>"
      ]
     },
     "metadata": {
      "needs_background": "light"
     },
     "output_type": "display_data"
    }
   ],
   "source": [
    "def analysis(ct):\n",
    "    country = {'india':'IN','usa':'US','canada':'CA'}\n",
    "    countryData = data.xs(country[ct.lower()])\n",
    "    fig,ax = plt.subplots(nrows=2,ncols=1,figsize=(15,15))\n",
    "    score=[countryData.iloc[-1:]['cases']-countryData.iloc[-1:]['recovered']-countryData.iloc[-1:]['deaths'],countryData.iloc[-1:]['deaths'],countryData.iloc[-1:]['recovered']]\n",
    "    ax[0].pie(score, labels=['current cases','Death','recovered'], autopct='%1.2f%%')\n",
    "    ax[1].plot(countryData['date'],countryData.drop('date',axis=1))\n",
    "country = input('Enter country Name:')\n",
    "\n",
    "analysis(country)"
   ]
  },
  {
   "cell_type": "code",
   "execution_count": 8,
   "metadata": {},
   "outputs": [],
   "source": [
    "data['DayNo']=data['date'].apply(lambda x: int(str(x-np.datetime64('2020-01-21')).split()[0]))"
   ]
  },
  {
   "cell_type": "code",
   "execution_count": 9,
   "metadata": {},
   "outputs": [
    {
     "data": {
      "text/html": [
       "<div>\n",
       "<style scoped>\n",
       "    .dataframe tbody tr th:only-of-type {\n",
       "        vertical-align: middle;\n",
       "    }\n",
       "\n",
       "    .dataframe tbody tr th {\n",
       "        vertical-align: top;\n",
       "    }\n",
       "\n",
       "    .dataframe thead th {\n",
       "        text-align: right;\n",
       "    }\n",
       "</style>\n",
       "<table border=\"1\" class=\"dataframe\">\n",
       "  <thead>\n",
       "    <tr style=\"text-align: right;\">\n",
       "      <th></th>\n",
       "      <th>date</th>\n",
       "      <th>cases</th>\n",
       "      <th>deaths</th>\n",
       "      <th>recovered</th>\n",
       "      <th>DayNo</th>\n",
       "    </tr>\n",
       "    <tr>\n",
       "      <th>countrycode</th>\n",
       "      <th></th>\n",
       "      <th></th>\n",
       "      <th></th>\n",
       "      <th></th>\n",
       "      <th></th>\n",
       "    </tr>\n",
       "  </thead>\n",
       "  <tbody>\n",
       "    <tr>\n",
       "      <th>CN</th>\n",
       "      <td>2020-01-22</td>\n",
       "      <td>548</td>\n",
       "      <td>24</td>\n",
       "      <td>28</td>\n",
       "      <td>1</td>\n",
       "    </tr>\n",
       "    <tr>\n",
       "      <th>JP</th>\n",
       "      <td>2020-01-22</td>\n",
       "      <td>2</td>\n",
       "      <td>0</td>\n",
       "      <td>0</td>\n",
       "      <td>1</td>\n",
       "    </tr>\n",
       "    <tr>\n",
       "      <th>KR</th>\n",
       "      <td>2020-01-22</td>\n",
       "      <td>1</td>\n",
       "      <td>0</td>\n",
       "      <td>0</td>\n",
       "      <td>1</td>\n",
       "    </tr>\n",
       "    <tr>\n",
       "      <th>TH</th>\n",
       "      <td>2020-01-22</td>\n",
       "      <td>2</td>\n",
       "      <td>0</td>\n",
       "      <td>0</td>\n",
       "      <td>1</td>\n",
       "    </tr>\n",
       "    <tr>\n",
       "      <th>TW</th>\n",
       "      <td>2020-01-22</td>\n",
       "      <td>1</td>\n",
       "      <td>0</td>\n",
       "      <td>0</td>\n",
       "      <td>1</td>\n",
       "    </tr>\n",
       "  </tbody>\n",
       "</table>\n",
       "</div>"
      ],
      "text/plain": [
       "                  date  cases  deaths  recovered  DayNo\n",
       "countrycode                                            \n",
       "CN          2020-01-22    548      24         28      1\n",
       "JP          2020-01-22      2       0          0      1\n",
       "KR          2020-01-22      1       0          0      1\n",
       "TH          2020-01-22      2       0          0      1\n",
       "TW          2020-01-22      1       0          0      1"
      ]
     },
     "execution_count": 9,
     "metadata": {},
     "output_type": "execute_result"
    }
   ],
   "source": [
    "data.head()"
   ]
  },
  {
   "cell_type": "code",
   "execution_count": 10,
   "metadata": {},
   "outputs": [],
   "source": [
    "data = data.reset_index().sort_values(by=['countrycode','date']).set_index(['countrycode','date'])"
   ]
  },
  {
   "cell_type": "code",
   "execution_count": 11,
   "metadata": {},
   "outputs": [],
   "source": [
    "from sklearn.preprocessing import PolynomialFeatures\n",
    "from sklearn.linear_model import LinearRegression\n",
    "from sklearn.metrics import mean_squared_error,r2_score"
   ]
  },
  {
   "cell_type": "code",
   "execution_count": 12,
   "metadata": {},
   "outputs": [
    {
     "name": "stdout",
     "output_type": "stream",
     "text": [
      "Country Name:india\n",
      "Enter the Date(yy-mm-dd):2020-09-25\n",
      "Root Mean Square Evaluation: 30863.11124098576\n",
      "R2 score of designed model: 0.9996708808577287\n",
      "\n",
      "Prediction: 5837214\n",
      "\n",
      "\t\tActual Report\n",
      "              cases  deaths  recovered  DayNo\n",
      "date                                         \n",
      "2020-09-25  5818570   92290     439934    248\n"
     ]
    },
    {
     "data": {
      "image/png": "[encoded data removed]",
      "text/plain": [
       "<Figure size 432x288 with 2 Axes>"
      ]
     },
     "metadata": {},
     "output_type": "display_data"
    }
   ],
   "source": [
    "def predictor(country,day):\n",
    "    X_poly=PolynomialFeatures(5).fit_transform(np.array(data.xs(country)['DayNo']).reshape(-1,1))\n",
    "    n_poly=PolynomialFeatures(5).fit_transform(np.array([day]).reshape(-1,1))\n",
    "    lm=LinearRegression(normalize=True)\n",
    "    lm.fit(X_poly,data.xs(country)['cases'])\n",
    "    pred=lm.predict(X_poly)\n",
    "    \n",
    "    \n",
    "    sns.set_style('darkgrid')\n",
    "    fig=plt.figure()\n",
    "    \n",
    "    ax1=fig.add_axes([0.1,0.1,0.9,0.9])\n",
    "    ax1.set_title('Prediction Function')\n",
    "    ax1.set_xlabel('Predicted Confirmed')\n",
    "    ax1.set_ylabel('Actaul Confirmed')\n",
    "    ax1.scatter(data.xs(country)['cases'],pred,color='red')\n",
    "    \n",
    "    ax2=fig.add_axes([0.7,0.7,0.3,0.3])\n",
    "    ax2.set_title('Error Distribution')\n",
    "    ax2.set_xlabel('Actual-Predicted')\n",
    "    ax2.set_ylabel('Error rate')\n",
    "    ax2.hist(data.xs(country)['cases']-pred,color='green',bins=30)\n",
    "    \n",
    "    \n",
    "    rmse = np.sqrt(mean_squared_error(data.xs(country)['cases'],pred))\n",
    "    r2 = r2_score(data.xs(country)['cases'],pred)\n",
    "    print('Root Mean Square Evaluation:',rmse)\n",
    "    print('R2 score of designed model:',r2)\n",
    "    \n",
    "    print('\\nPrediction:',int(lm.predict(n_poly)[0]))\n",
    "    if(day<=data.describe()['DayNo']['max']):\n",
    "        print('\\n\\t\\tActual Report')\n",
    "        print(data.xs(country)[data.xs(country)['DayNo']==day])\n",
    "\n",
    "country=input('Country Name:')\n",
    "ct = {'india':'IN','usa':'US','canada':'CA'}\n",
    "date=input('Enter the Date(yy-mm-dd):')\n",
    "n=int(str(np.datetime64(date)-np.datetime64('2020-01-21')).split()[0])\n",
    "predictor(ct[country.lower()],n)"
   ]
  },
  {
   "cell_type": "code",
   "execution_count": null,
   "metadata": {},
   "outputs": [],
   "source": []
  }
 ],
 "metadata": {
  "kernelspec": {
   "display_name": "Python 3",
   "language": "python",
   "name": "python3"
  },
  "language_info": {
   "codemirror_mode": {
    "name": "ipython",
    "version": 3
   },
   "file_extension": ".py",
   "mimetype": "text/x-python",
   "name": "python",
   "nbconvert_exporter": "python",
   "pygments_lexer": "ipython3",
   "version": "3.7.7"
  }
 },
 "nbformat": 4,
 "nbformat_minor": 4
}
